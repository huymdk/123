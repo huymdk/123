{
 "cells": [
  {
   "cell_type": "code",
   "execution_count": 1,
   "id": "a4df83dd-7b58-47e2-bd2e-444f44e9ef6c",
   "metadata": {},
   "outputs": [],
   "source": [
    "from sklearn.feature_extraction.text import TfidfVectorizer\n",
    "from sklearn.metrics.pairwise import cosine_similarity\n",
    "import pandas as pd\n",
    "import numpy as np"
   ]
  },
  {
   "cell_type": "code",
   "execution_count": 2,
   "id": "43262511-9b32-48c8-82ed-219be75616ea",
   "metadata": {},
   "outputs": [],
   "source": [
    "doc = [\n",
    "    \"The sky is blue.\",\n",
    "    \"The sun is bright today.\",\n",
    "    \"The sun in the sky is bright.\",\n",
    "    \"We can see the shining sun, the bright sun.\",\n",
    "    \"The moon is full, the sky full of stars.\",\n",
    "    \"The sky was dark, the stars plentiful and bright.\",\n",
    "    \"The sun is but a morning star.\"\n",
    "]"
   ]
  },
  {
   "cell_type": "code",
   "execution_count": 3,
   "id": "67e81d38-0018-4d14-836d-5b8e0fc90be4",
   "metadata": {},
   "outputs": [],
   "source": [
    "# Create a TfidfVectorizer\n",
    "tfidf_vectorizer = TfidfVectorizer(stop_words='english')\n"
   ]
  },
  {
   "cell_type": "code",
   "execution_count": 4,
   "id": "34b2ccb5-4bc6-458e-aa7f-855c6ee97178",
   "metadata": {},
   "outputs": [],
   "source": [
    "# Fit the vectorizer and transform the documents into TF-IDF features\n",
    "tfidf_matrix = tfidf_vectorizer.fit_transform(doc)"
   ]
  },
  {
   "cell_type": "code",
   "execution_count": 5,
   "id": "152e9f03-fb30-45f3-923f-4744166d8b75",
   "metadata": {},
   "outputs": [],
   "source": [
    "\n",
    "# Convert the TF-IDF matrix to a dense array\n",
    "tfidf_matrix_dense = tfidf_matrix.toarray()"
   ]
  },
  {
   "cell_type": "code",
   "execution_count": 6,
   "id": "d09f6956-e63e-4ba0-b8f2-8501d51d5a3e",
   "metadata": {},
   "outputs": [],
   "source": [
    "# Calculate the cosine similarity between documents\n",
    "cosine_sim = cosine_similarity(tfidf_matrix_dense)"
   ]
  },
  {
   "cell_type": "code",
   "execution_count": 7,
   "id": "295844b5-1bc8-4c0f-986b-3e6a52af9d47",
   "metadata": {},
   "outputs": [
    {
     "name": "stdout",
     "output_type": "stream",
     "text": [
      "       blue    bright      dark      moon   morning  plentiful   shining  \\\n",
      "0  0.851417  0.000000  0.000000  0.000000  0.000000   0.000000  0.000000   \n",
      "1  0.000000  0.464479  0.000000  0.000000  0.000000   0.000000  0.000000   \n",
      "2  0.000000  0.577350  0.000000  0.000000  0.000000   0.000000  0.000000   \n",
      "3  0.000000  0.361901  0.000000  0.000000  0.000000   0.000000  0.587484   \n",
      "4  0.000000  0.000000  0.000000  0.695296  0.000000   0.000000  0.000000   \n",
      "5  0.000000  0.331750  0.538538  0.000000  0.000000   0.538538  0.000000   \n",
      "6  0.000000  0.000000  0.000000  0.000000  0.648275   0.000000  0.000000   \n",
      "\n",
      "        sky      star     stars       sun     today  \n",
      "0  0.524489  0.000000  0.000000  0.000000  0.000000  \n",
      "1  0.000000  0.000000  0.000000  0.464479  0.754001  \n",
      "2  0.577350  0.000000  0.000000  0.577350  0.000000  \n",
      "3  0.000000  0.000000  0.000000  0.723803  0.000000  \n",
      "4  0.428316  0.000000  0.577156  0.000000  0.000000  \n",
      "5  0.331750  0.000000  0.447033  0.000000  0.000000  \n",
      "6  0.000000  0.648275  0.000000  0.399350  0.000000  \n"
     ]
    }
   ],
   "source": [
    "# Print the TF-IDF matrix\n",
    "print(pd.DataFrame(tfidf_matrix_dense, columns=tfidf_vectorizer.get_feature_names_out()))"
   ]
  },
  {
   "cell_type": "code",
   "execution_count": 8,
   "id": "fcdce7f9-1361-4695-8d53-e35238680b2b",
   "metadata": {},
   "outputs": [
    {
     "name": "stdout",
     "output_type": "stream",
     "text": [
      "                                                   The sky is blue.  \\\n",
      "The sky is blue.                                           1.000000   \n",
      "The sun is bright today.                                   0.000000   \n",
      "The sun in the sky is bright.                              0.302814   \n",
      "We can see the shining sun, the bright sun.                0.000000   \n",
      "The moon is full, the sky full of stars.                   0.224647   \n",
      "The sky was dark, the stars plentiful and bright.          0.173999   \n",
      "The sun is but a morning star.                             0.000000   \n",
      "\n",
      "                                                   The sun is bright today.  \\\n",
      "The sky is blue.                                                   0.000000   \n",
      "The sun is bright today.                                           1.000000   \n",
      "The sun in the sky is bright.                                      0.536335   \n",
      "We can see the shining sun, the bright sun.                        0.504287   \n",
      "The moon is full, the sky full of stars.                           0.000000   \n",
      "The sky was dark, the stars plentiful and bright.                  0.154091   \n",
      "The sun is but a morning star.                                     0.185490   \n",
      "\n",
      "                                                   The sun in the sky is bright.  \\\n",
      "The sky is blue.                                                        0.302814   \n",
      "The sun is bright today.                                                0.536335   \n",
      "The sun in the sky is bright.                                           1.000000   \n",
      "We can see the shining sun, the bright sun.                             0.626832   \n",
      "The moon is full, the sky full of stars.                                0.247288   \n",
      "The sky was dark, the stars plentiful and bright.                       0.383072   \n",
      "The sun is but a morning star.                                          0.230565   \n",
      "\n",
      "                                                   We can see the shining sun, the bright sun.  \\\n",
      "The sky is blue.                                                                      0.000000   \n",
      "The sun is bright today.                                                              0.504287   \n",
      "The sun in the sky is bright.                                                         0.626832   \n",
      "We can see the shining sun, the bright sun.                                           1.000000   \n",
      "The moon is full, the sky full of stars.                                              0.000000   \n",
      "The sky was dark, the stars plentiful and bright.                                     0.120061   \n",
      "The sun is but a morning star.                                                        0.289050   \n",
      "\n",
      "                                                   The moon is full, the sky full of stars.  \\\n",
      "The sky is blue.                                                                   0.224647   \n",
      "The sun is bright today.                                                           0.000000   \n",
      "The sun in the sky is bright.                                                      0.247288   \n",
      "We can see the shining sun, the bright sun.                                        0.000000   \n",
      "The moon is full, the sky full of stars.                                           1.000000   \n",
      "The sky was dark, the stars plentiful and bright.                                  0.400101   \n",
      "The sun is but a morning star.                                                     0.000000   \n",
      "\n",
      "                                                   The sky was dark, the stars plentiful and bright.  \\\n",
      "The sky is blue.                                                                            0.173999   \n",
      "The sun is bright today.                                                                    0.154091   \n",
      "The sun in the sky is bright.                                                               0.383072   \n",
      "We can see the shining sun, the bright sun.                                                 0.120061   \n",
      "The moon is full, the sky full of stars.                                                    0.400101   \n",
      "The sky was dark, the stars plentiful and bright.                                           1.000000   \n",
      "The sun is but a morning star.                                                              0.000000   \n",
      "\n",
      "                                                   The sun is but a morning star.  \n",
      "The sky is blue.                                                         0.000000  \n",
      "The sun is bright today.                                                 0.185490  \n",
      "The sun in the sky is bright.                                            0.230565  \n",
      "We can see the shining sun, the bright sun.                              0.289050  \n",
      "The moon is full, the sky full of stars.                                 0.000000  \n",
      "The sky was dark, the stars plentiful and bright.                        0.000000  \n",
      "The sun is but a morning star.                                           1.000000  \n"
     ]
    }
   ],
   "source": [
    "# Print the cosine similarity matrix\n",
    "print(pd.DataFrame(cosine_sim, columns=doc, index=doc))"
   ]
  },
  {
   "cell_type": "code",
   "execution_count": null,
   "id": "67472a3e-8406-4dc3-9883-7f3416c497de",
   "metadata": {},
   "outputs": [],
   "source": []
  }
 ],
 "metadata": {
  "kernelspec": {
   "display_name": "Python 3 (ipykernel)",
   "language": "python",
   "name": "python3"
  },
  "language_info": {
   "codemirror_mode": {
    "name": "ipython",
    "version": 3
   },
   "file_extension": ".py",
   "mimetype": "text/x-python",
   "name": "python",
   "nbconvert_exporter": "python",
   "pygments_lexer": "ipython3",
   "version": "3.10.12"
  }
 },
 "nbformat": 4,
 "nbformat_minor": 5
}
